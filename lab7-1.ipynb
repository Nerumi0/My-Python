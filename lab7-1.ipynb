{
 "cells": [
  {
   "cell_type": "code",
   "execution_count": 12,
   "metadata": {},
   "outputs": [
    {
     "name": "stdout",
     "output_type": "stream",
     "text": [
      "ชื่อพนักงาน: petch\n",
      "เงินเดือน: 100000\n",
      "ค่าล่วงเวลา: 7500.0\n",
      "เงินเดือนทั้งหมด: 107500.0\n"
     ]
    }
   ],
   "source": [
    "name = str(input(\"กรุณาป้อนชื่อพนักงาน: \"))\n",
    "monny = int(input(\"กรุณาป้อนเงินเดือน: \"))\n",
    "time = float(input(\"กรุณาป้อนชั่วโมงทำงาน: \"))\n",
    "def Calculator (time):\n",
    "    if time > 40:\n",
    "        a = time * 150\n",
    "    else:\n",
    "        a = time * 100\n",
    "    return a\n",
    "def Calculator1 (monny, time):\n",
    "    if time > 40:\n",
    "        a = time * 150\n",
    "        b = monny + a\n",
    "    else:\n",
    "        a = time * 100\n",
    "        b = monny + a\n",
    "    return b\n",
    "\n",
    "L = Calculator (time)\n",
    "O = Calculator1 (monny,time)\n",
    "print(\"ชื่อพนักงาน:\", name)\n",
    "print(\"เงินเดือน:\",  monny)\n",
    "print(\"ค่าล่วงเวลา:\",  L)\n",
    "print(\"เงินเดือนทั้งหมด:\", O)\n",
    "\n",
    "\n"
   ]
  },
  {
   "cell_type": "code",
   "execution_count": 24,
   "metadata": {},
   "outputs": [
    {
     "name": "stdout",
     "output_type": "stream",
     "text": [
      ".!entry\n"
     ]
    }
   ],
   "source": [
    "import tkinter as tk\n",
    "app = tk.Tk()\n",
    "app.geometry(\"500x300\")\n",
    "\n",
    "def showme(n):\n",
    "    print(n)\n",
    "\n",
    "app.title('Design by Thitiwan')\n",
    "label = tk.Label(text=\"ชื่อพนักงาน\")\n",
    "name = tk.Entry()\n",
    "label2 = tk.Label(text=\"เงินเดื่อน\")\n",
    "salary = tk.Entry()\n",
    "btn = tk.Button(text=\"คลิก\", command=showme(name))\n",
    "\n",
    "label.place(x=50,y=50)\n",
    "name.place(x=150,y=50)\n",
    "label2.place(x=50,y=100)\n",
    "salary.place(x=150,y=100)\n",
    "btn.place(x=50,y=150)\n",
    "\n",
    "app.mainloop()"
   ]
  }
 ],
 "metadata": {
  "kernelspec": {
   "display_name": "Python 3",
   "language": "python",
   "name": "python3"
  },
  "language_info": {
   "codemirror_mode": {
    "name": "ipython",
    "version": 3
   },
   "file_extension": ".py",
   "mimetype": "text/x-python",
   "name": "python",
   "nbconvert_exporter": "python",
   "pygments_lexer": "ipython3",
   "version": "3.12.3"
  }
 },
 "nbformat": 4,
 "nbformat_minor": 2
}
