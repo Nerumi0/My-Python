{
 "cells": [
  {
   "cell_type": "code",
   "execution_count": 9,
   "metadata": {},
   "outputs": [
    {
     "name": "stdout",
     "output_type": "stream",
     "text": [
      "Hello\n"
     ]
    }
   ],
   "source": [
    "print(\"Hello\")"
   ]
  },
  {
   "cell_type": "code",
   "execution_count": 10,
   "metadata": {},
   "outputs": [
    {
     "name": "stdout",
     "output_type": "stream",
     "text": [
      "30\n"
     ]
    }
   ],
   "source": [
    "a = 10\n",
    "b = 20\n",
    "print(a+b)"
   ]
  },
  {
   "cell_type": "code",
   "execution_count": 11,
   "metadata": {},
   "outputs": [
    {
     "name": "stdout",
     "output_type": "stream",
     "text": [
      "Hello 1\n",
      "Hello 2\n",
      "Hello 3\n",
      "Hello 4\n",
      "Hello 5\n",
      "Hello 6\n",
      "Hello 7\n",
      "Hello 8\n",
      "Hello 9\n",
      "Hello 10\n"
     ]
    }
   ],
   "source": [
    "for i in range(10):\n",
    "    i = i+1\n",
    "    print(\"Hello %d\" %i)"
   ]
  },
  {
   "cell_type": "code",
   "execution_count": 12,
   "metadata": {},
   "outputs": [
    {
     "name": "stdout",
     "output_type": "stream",
     "text": [
      "F = 95.00 ฟาเรนไฮต์\n",
      "K = 308.15 เคลวิน\n"
     ]
    }
   ],
   "source": [
    "def f(c):\n",
    "    fx = ((9 / 5) * c) + 32\n",
    "    return fx\n",
    "\n",
    "def k(c):\n",
    "    kx = c + 273.15\n",
    "    return kx\n",
    "\n",
    "c = float(input(\"อุณหภูมิ = \"))\n",
    "print(\"F = %.2f ฟาเรนไฮต์\" % f(c)) \n",
    "print(\"K = %.2f เคลวิน\" % k(c))"
   ]
  },
  {
   "cell_type": "code",
   "execution_count": 13,
   "metadata": {},
   "outputs": [],
   "source": [
    "i = float(input('รับคะแนน:'))\n",
    "def bmi(score):\n",
    "    if score > 80:\n",
    "        result = \"คะแนนมากกว่า 80 คะแนน ดีมาก\"\n",
    "    elif score >= 51 and score <= 79:\n",
    "        result = \"คะแนนมากกว่า 50 คะแนน ผ่าน\"\n",
    "    elif score >= 0 and score <= 50:\n",
    "        result = \"คะแนนน้อยกว่า 50 คะแนน ไม่ผ่าน\"\n",
    "    return result"
   ]
  },
  {
   "cell_type": "code",
   "execution_count": 15,
   "metadata": {},
   "outputs": [
    {
     "name": "stdout",
     "output_type": "stream",
     "text": [
      "ไม่สามารถใส่คะแนนมากกว่า 20 คะแนนได้\n",
      "คะแนนรวม = 50.0\n"
     ]
    }
   ],
   "source": [
    "a = float(input(\"กรุณาป้อนคะแนนเก็บ: \"))\n",
    "while a > 20:\n",
    "    print(\"ไม่สามารถใส่คะแนนมากกว่า 20 คะแนนได้\")\n",
    "    a = int(input(\"กรุณาใส่คะแนนใหม่ (ไม่เกิน 20 คะแนน): \"))\n",
    "b = float(input(\"กรุณาป้อนคะแนนจิตพิสัย: \"))\n",
    "while b > 10:\n",
    "    print(\"ไม่สามารถใส่คะแนนมากกว่า 10 คะแนนได้\")\n",
    "    b = int(input(\"กรุณาใส่คะแนนใหม่ (ไม่เกิน 10 คะแนน): \"))\n",
    "c = float(input(\"กรุณาป้อนคะแนนกลางภาค: \"))\n",
    "while c > 20:\n",
    "    print(\"ไม่สามารถใส่คะแนนมากกว่า 20 คะแนนได้\")\n",
    "    c = int(input(\"กรุณาใส่คะแนนใหม่ (ไม่เกิน 20 คะแนน): \"))\n",
    "def all_score(a,b,c):\n",
    "    total_score = a+c+b\n",
    "    return total_score\n",
    "total_score = all_score(a,b,c)\n",
    "if total_score > 50:\n",
    "    print(\"ผลรวมคะแนนเกิน 50 คะแนน กรุณาป้อนคะแนนใหม่\")\n",
    "else:\n",
    "    print(\"คะแนนรวม =\", total_score)"
   ]
  }
 ],
 "metadata": {
  "kernelspec": {
   "display_name": "Python 3",
   "language": "python",
   "name": "python3"
  },
  "language_info": {
   "codemirror_mode": {
    "name": "ipython",
    "version": 3
   },
   "file_extension": ".py",
   "mimetype": "text/x-python",
   "name": "python",
   "nbconvert_exporter": "python",
   "pygments_lexer": "ipython3",
   "version": "3.12.3"
  }
 },
 "nbformat": 4,
 "nbformat_minor": 2
}
